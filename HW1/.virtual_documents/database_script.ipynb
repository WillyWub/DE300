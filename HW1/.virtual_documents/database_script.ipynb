import pandas as pd
from sqlalchemy import create_engine
import psycopg2
import os

# Configuration
db_user = "Wilson"
db_password = "Northwestern0319@"
db_host = "3.145.178.97"  # Or your PostgreSQL server IP address
db_port = "5432"
db_name = "HW1"
table_name = "heart_disease"
csv_file_path = "/home/ubuntu/DE300/HW1/heart_disease.csv"  # Path to your CSV file

# Create a connection string
connection_string = f"postgresql://{db_user}:{db_password}@{db_host}:{db_port}/{db_name}"

# Create a SQLAlchemy engine
engine = create_engine(connection_string)

# Read the CSV file into a DataFrame
df = pd.read_csv(csv_file_path)

# Create a table schema based on the DataFrame's structure
# If the table already exists, replace it (if_exists='replace')
df.to_sql(table_name, engine, index=False, if_exists='replace')

print(f"Successfully loaded {len(df)} records into '{table_name}' table.")







