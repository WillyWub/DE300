{
 "cells": [
  {
   "cell_type": "code",
   "execution_count": 1,
   "id": "ca03a649-3dcf-472c-a771-49ccdf33dab4",
   "metadata": {},
   "outputs": [],
   "source": [
    "from pyspark.sql import SparkSession\n",
    "from pyspark.sql.types import StructType, StructField, IntegerType, StringType, FloatType\n",
    "from pyspark.sql.dataframe import DataFrame\n",
    "from pyspark.sql.functions import col, when, isnan, isnull, count, avg, trim\n",
    "import pandas as pd\n",
    "import os"
   ]
  },
  {
   "cell_type": "code",
   "execution_count": null,
   "id": "f476b024-a1b4-4185-9852-8861159693a2",
   "metadata": {},
   "outputs": [],
   "source": []
  },
  {
   "cell_type": "code",
   "execution_count": 2,
   "id": "f71c5482-1d34-4189-87e0-844e238e1f6b",
   "metadata": {},
   "outputs": [],
   "source": [
    "DATA_FOLDER = \"data\"\n",
    "# source https://www.statista.com/statistics/242030/marital-status-of-the-us-population-by-sex/\n",
    "# the first value is male and the second is for female\n",
    "MARITAL_STATUS_BY_GENDER = [\n",
    "    [\"Never-married\", 47.35, 41.81],\n",
    "    [\"Married-AF-spouse\", 67.54, 68.33],\n",
    "    [\"Widowed\", 3.58, 11.61],\n",
    "    [\"Divorced\", 10.82, 15.09]\n",
    "]\n",
    "MARITAL_STATUS_BY_GENDER_COLUMNS = [\"marital_status_statistics\", \"male\", \"female\"]"
   ]
  },
  {
   "cell_type": "code",
   "execution_count": null,
   "id": "46c3d901-2fef-449f-88ee-bc8f3e8e3ec2",
   "metadata": {},
   "outputs": [],
   "source": []
  },
  {
   "cell_type": "code",
   "execution_count": 3,
   "id": "f1a99991-868e-4b28-bb09-5b447a2d39be",
   "metadata": {},
   "outputs": [],
   "source": [
    "\n",
    "\n",
    "\n",
    "\n",
    "def read_data(spark: SparkSession) -> DataFrame:\n",
    "    \"\"\"\n",
    "    read data based on the given schema; this is much faster than spark determining the schema\n",
    "    \"\"\"\n",
    "    \n",
    "    # Define the schema for the dataset\n",
    "    schema = StructType([\n",
    "        StructField(\"age\", IntegerType(), True),\n",
    "        StructField(\"workclass\", StringType(), True),\n",
    "        StructField(\"fnlwgt\", FloatType(), True),\n",
    "        StructField(\"education\", StringType(), True),\n",
    "        StructField(\"education_num\", FloatType(), True),\n",
    "        StructField(\"marital_status\", StringType(), True),\n",
    "        StructField(\"occupation\", StringType(), True),\n",
    "        StructField(\"relationship\", StringType(), True),\n",
    "        StructField(\"race\", StringType(), True),\n",
    "        StructField(\"sex\", StringType(), True),\n",
    "        StructField(\"capital_gain\", FloatType(), True),\n",
    "        StructField(\"capital_loss\", FloatType(), True),\n",
    "        StructField(\"hours_per_week\", FloatType(), True),\n",
    "        StructField(\"native_country\", StringType(), True),\n",
    "        StructField(\"income\", StringType(), True)\n",
    "    ])\n",
    "\n",
    "    # Read the dataset\n",
    "    data = spark.read \\\n",
    "        .schema(schema) \\\n",
    "        .option(\"header\", \"false\") \\\n",
    "        .option(\"inferSchema\", \"false\") \\\n",
    "        .csv(os.path.join(DATA_FOLDER,\"*.csv\")) \n",
    "\n",
    "    data = data.repartition(8)\n",
    "\n",
    "    float_columns = [f.name for f in data.schema.fields if isinstance(f.dataType, FloatType)]\n",
    "    for v in float_columns:\n",
    "        data = data.withColumn(v, data[v].cast(IntegerType()))\n",
    "\n",
    "    # Get the names of all StringType columns\n",
    "    string_columns = [f.name for f in data.schema.fields if isinstance(f.dataType, StringType)]\n",
    "\n",
    "    # Remove leading and trailing spaces in all string columns\n",
    "    for column in string_columns:\n",
    "        data = data.withColumn(column, trim(data[column]))\n",
    "\n",
    "    # Show the first 5 rows of the dataset\n",
    "    data.show(5)\n",
    "\n",
    "    return data\n"
   ]
  },
  {
   "cell_type": "code",
   "execution_count": 4,
   "id": "2db108d9-43b4-454e-b733-8cfe77b1adea",
   "metadata": {},
   "outputs": [],
   "source": [
    "\n",
    "def missing_values(data: DataFrame) -> DataFrame:\n",
    "    \"\"\"\n",
    "    count the number of samples with missing values for each row\n",
    "    remove such samples\n",
    "    \"\"\"\n",
    "\n",
    "    missing_values = data.select([count(when(isnan(c) | isnull(c), c)).alias(c) for c in data.columns])\n",
    "\n",
    "    # Show the missing values count per column\n",
    "    missing_values.show()\n",
    "\n",
    "    # Get the number of samples in the DataFrame\n",
    "    num_samples = data.count()\n",
    "\n",
    "    # Print the number of samples\n",
    "    print(\"Number of samples:\", num_samples)  \n",
    "\n",
    "    data = data.dropna()      \n",
    "    \n",
    "    return data\n",
    "\n"
   ]
  },
  {
   "cell_type": "code",
   "execution_count": 5,
   "id": "46e79575-66a3-40dc-8729-c141de74946e",
   "metadata": {},
   "outputs": [],
   "source": [
    "def feature_engineering(data: DataFrame) -> DataFrame:\n",
    "    \"\"\"\n",
    "    calculate the product of each pair of integer features\n",
    "    \"\"\"\n",
    "\n",
    "    # Create columns consisting of all products of columns of type IntegerType\n",
    "    integer_columns = [f.name for f in data.schema.fields if isinstance(f.dataType, IntegerType)]\n",
    "    for i, col1 in enumerate(integer_columns):\n",
    "        for col2 in integer_columns[i:]:\n",
    "            product_col_name = f\"{col1}_x_{col2}\"\n",
    "            data = data.withColumn(product_col_name, col(col1) * col(col2))\n",
    "\n",
    "    data.show(5)\n",
    "\n",
    "    return data\n",
    "\n",
    "def bias_marital_status(data: DataFrame):\n",
    "    \"\"\"\n",
    "    is there bias in capital gain by marital status\n",
    "    \"\"\"\n",
    "\n",
    "    # Calculate the average capital_gain by marital_status\n",
    "    average_capital_gain = data.groupBy(\"marital_status\").agg(avg(\"capital_gain\").alias(\"average_capital_gain\"))\n",
    "\n",
    "    # Show the average capital_gain by marital_status\n",
    "    average_capital_gain.show()\n",
    "\n",
    "    # Filter data based on marital_status = Divorced\n",
    "    divorced_data = data.filter(data.marital_status == \"Divorced\")\n",
    "\n",
    "    # Show the first 5 rows of the filtered DataFrame\n",
    "    divorced_data.show(5)\n",
    "\n",
    "def join_with_US_gender(spark: SparkSession, data: DataFrame):\n",
    "    \"\"\"\n",
    "    join with respect to the marital_status\n",
    "    \"\"\"\n",
    "\n",
    "    # create a data frame from new data\n",
    "    columns = [\"dept_name\",\"dept_id\"]\n",
    "    us_df = spark.createDataFrame(MARITAL_STATUS_BY_GENDER, MARITAL_STATUS_BY_GENDER_COLUMNS)\n",
    "\n",
    "    return data.join(us_df, data.marital_status == us_df.marital_status_statistics, 'outer')\n",
    "\n",
    "def main():\n",
    "    # Create a Spark session\n",
    "    spark = SparkSession.builder \\\n",
    "        .appName(\"Read Adult Dataset\") \\\n",
    "        .getOrCreate()\n",
    "\n",
    "    data = read_data(spark)\n",
    "    # perform basic EDA - count missing values\n",
    "    data = missing_values(data)\n",
    "    data = feature_engineering(data)\n",
    "    bias_marital_status(data)\n",
    "    data = join_with_US_gender(spark, data)\n",
    "\n",
    "    \n",
    "    \n",
    "    data.show(5)\n",
    "    data.write.format('csv').option('header', 'true').mode('overwrite').save('saved.csv')\n",
    "    #spark.stop()\n",
    "    #return data\n"
   ]
  },
  {
   "cell_type": "code",
   "execution_count": 6,
   "id": "f5914805-6415-4866-a4ee-17280c6c94cd",
   "metadata": {},
   "outputs": [],
   "source": [
    "def bias_marital_status(data: DataFrame):\n",
    "    \"\"\"\n",
    "    is there bias in capital gain by marital status\n",
    "    \"\"\"\n",
    "\n",
    "    # Calculate the average capital_gain by marital_status\n",
    "    average_capital_gain = data.groupBy(\"marital_status\").agg(avg(\"capital_gain\").alias(\"average_capital_gain\"))\n",
    "\n",
    "    # Show the average capital_gain by marital_status\n",
    "    average_capital_gain.show()\n",
    "\n",
    "    # Filter data based on marital_status = Divorced\n",
    "    divorced_data = data.filter(data.marital_status == \"Divorced\")\n",
    "\n",
    "    # Show the first 5 rows of the filtered DataFrame\n",
    "    divorced_data.show(5)\n",
    "\n"
   ]
  },
  {
   "cell_type": "code",
   "execution_count": 7,
   "id": "40de6a60-dd21-44f9-a003-a2eab84f7952",
   "metadata": {},
   "outputs": [],
   "source": [
    "def join_with_US_gender(spark: SparkSession, data: DataFrame):\n",
    "    \"\"\"\n",
    "    join with respect to the marital_status\n",
    "    \"\"\"\n",
    "\n",
    "    # create a data frame from new data\n",
    "    columns = [\"dept_name\",\"dept_id\"]\n",
    "    us_df = spark.createDataFrame(MARITAL_STATUS_BY_GENDER, MARITAL_STATUS_BY_GENDER_COLUMNS)\n",
    "\n",
    "    return data.join(us_df, data.marital_status == us_df.marital_status_statistics, 'outer')\n",
    "\n"
   ]
  },
  {
   "cell_type": "code",
   "execution_count": 8,
   "id": "eaf9f350-7e63-4c01-a82d-b4e815a1c8b9",
   "metadata": {},
   "outputs": [],
   "source": [
    "def age(data: DataFrame):\n",
    "    selected_df = data.filter((data['age'] >= 30) & (data['age'] <= 50))\n",
    "\n",
    "    # Convert the selected PySpark DataFrame to a Pandas DataFrame\n",
    "    pandas_df = selected_df.toPandas()\n",
    "\n",
    "    # Print out summary statistics using .describe()\n",
    "    print(pandas_df.describe())\n",
    "    return pandas_df"
   ]
  },
  {
   "cell_type": "code",
   "execution_count": 9,
   "id": "efe19e6a-0a5e-4c4f-9585-fe7f39e3dd0c",
   "metadata": {},
   "outputs": [
    {
     "name": "stderr",
     "output_type": "stream",
     "text": [
      "Setting default log level to \"WARN\".\n",
      "To adjust logging level use sc.setLogLevel(newLevel). For SparkR, use setLogLevel(newLevel).\n",
      "24/05/15 00:53:44 WARN NativeCodeLoader: Unable to load native-hadoop library for your platform... using builtin-java classes where applicable\n",
      "[Stage 0:=============================>                             (1 + 1) / 2]\r"
     ]
    },
    {
     "name": "stdout",
     "output_type": "stream",
     "text": [
      "+---+----------------+------+------------+-------------+------------------+--------------+-------------+-----+------+------------+------------+--------------+--------------+------+\n",
      "|age|       workclass|fnlwgt|   education|education_num|    marital_status|    occupation| relationship| race|   sex|capital_gain|capital_loss|hours_per_week|native_country|income|\n",
      "+---+----------------+------+------------+-------------+------------------+--------------+-------------+-----+------+------------+------------+--------------+--------------+------+\n",
      "| 72|Self-emp-not-inc| 52138|   Doctorate|           16|Married-civ-spouse|Prof-specialty|      Husband|White|  Male|           0|        2392|            25| United-States|  >50K|\n",
      "| 45|         Private|140581|Some-college|           10|           Widowed| Other-service|    Unmarried|Black|Female|           0|           0|            40| United-States| <=50K|\n",
      "| 55|       Local-gov| 84564| Prof-school|           15|          Divorced|Prof-specialty|Not-in-family|White|Female|           0|           0|            39| United-States| <=50K|\n",
      "| 37|         Private|356824|     HS-grad|            9|         Separated|  Tech-support|    Unmarried|White|Female|           0|           0|            40| United-States| <=50K|\n",
      "| 56|Self-emp-not-inc|175964|Some-college|           10|          Divorced| Other-service|Not-in-family|White|Female|           0|           0|            40| United-States| <=50K|\n",
      "+---+----------------+------+------------+-------------+------------------+--------------+-------------+-----+------+------------+------------+--------------+--------------+------+\n",
      "only showing top 5 rows\n",
      "\n"
     ]
    },
    {
     "name": "stderr",
     "output_type": "stream",
     "text": [
      "                                                                                \r"
     ]
    }
   ],
   "source": [
    "spark = SparkSession.builder \\\n",
    "        .appName(\"Read Adult Dataset\") \\\n",
    "        .getOrCreate()\n",
    "\n",
    "data = read_data(spark)"
   ]
  },
  {
   "cell_type": "code",
   "execution_count": 10,
   "id": "7ead504b-072e-4181-a03d-35a8d60115b8",
   "metadata": {},
   "outputs": [
    {
     "name": "stderr",
     "output_type": "stream",
     "text": [
      "[Stage 3:=============================>                             (1 + 1) / 2]\r"
     ]
    },
    {
     "name": "stdout",
     "output_type": "stream",
     "text": [
      "+---+----------------+------+------------+-------------+------------------+--------------+-------------+-----+------+------------+------------+--------------+--------------+------+\n",
      "|age|       workclass|fnlwgt|   education|education_num|    marital_status|    occupation| relationship| race|   sex|capital_gain|capital_loss|hours_per_week|native_country|income|\n",
      "+---+----------------+------+------------+-------------+------------------+--------------+-------------+-----+------+------------+------------+--------------+--------------+------+\n",
      "| 72|Self-emp-not-inc| 52138|   Doctorate|           16|Married-civ-spouse|Prof-specialty|      Husband|White|  Male|           0|        2392|            25| United-States|  >50K|\n",
      "| 45|         Private|140581|Some-college|           10|           Widowed| Other-service|    Unmarried|Black|Female|           0|           0|            40| United-States| <=50K|\n",
      "| 55|       Local-gov| 84564| Prof-school|           15|          Divorced|Prof-specialty|Not-in-family|White|Female|           0|           0|            39| United-States| <=50K|\n",
      "| 37|         Private|356824|     HS-grad|            9|         Separated|  Tech-support|    Unmarried|White|Female|           0|           0|            40| United-States| <=50K|\n",
      "| 56|Self-emp-not-inc|175964|Some-college|           10|          Divorced| Other-service|Not-in-family|White|Female|           0|           0|            40| United-States| <=50K|\n",
      "+---+----------------+------+------------+-------------+------------------+--------------+-------------+-----+------+------------+------------+--------------+--------------+------+\n",
      "only showing top 5 rows\n",
      "\n"
     ]
    },
    {
     "name": "stderr",
     "output_type": "stream",
     "text": [
      "                                                                                \r"
     ]
    }
   ],
   "source": [
    "data = read_data(spark)"
   ]
  },
  {
   "cell_type": "code",
   "execution_count": 11,
   "id": "6de0d96b-0870-49f1-b9dd-560d6dc69be0",
   "metadata": {},
   "outputs": [
    {
     "name": "stderr",
     "output_type": "stream",
     "text": [
      "                                                                                \r"
     ]
    },
    {
     "name": "stdout",
     "output_type": "stream",
     "text": [
      "+---+---------+------+---------+-------------+--------------+----------+------------+----+---+------------+------------+--------------+--------------+------+\n",
      "|age|workclass|fnlwgt|education|education_num|marital_status|occupation|relationship|race|sex|capital_gain|capital_loss|hours_per_week|native_country|income|\n",
      "+---+---------+------+---------+-------------+--------------+----------+------------+----+---+------------+------------+--------------+--------------+------+\n",
      "|  1|        0|     1|        0|            1|             0|         0|           0|   0|  0|           1|           1|             1|             0|     0|\n",
      "+---+---------+------+---------+-------------+--------------+----------+------------+----+---+------------+------------+--------------+--------------+------+\n",
      "\n",
      "Number of samples: 65123\n"
     ]
    }
   ],
   "source": [
    "data = missing_values(data)"
   ]
  },
  {
   "cell_type": "code",
   "execution_count": 12,
   "id": "d5aa850b-8d1f-44f7-8a0c-35feb1f48513",
   "metadata": {},
   "outputs": [
    {
     "name": "stderr",
     "output_type": "stream",
     "text": [
      "24/05/15 00:54:09 WARN package: Truncated the string representation of a plan since it was too large. This behavior can be adjusted by setting 'spark.sql.debug.maxToStringFields'.\n",
      "[Stage 18:=============================>                            (1 + 1) / 2]\r"
     ]
    },
    {
     "name": "stdout",
     "output_type": "stream",
     "text": [
      "+---+----------------+------+------------+-------------+------------------+--------------+-------------+-----+------+------------+------------+--------------+--------------+------+---------+------------+-------------------+------------------+------------------+--------------------+---------------+----------------------+---------------------+---------------------+-----------------------+-----------------------------+----------------------------+----------------------------+------------------------------+---------------------------+---------------------------+-----------------------------+---------------------------+-----------------------------+-------------------------------+\n",
      "|age|       workclass|fnlwgt|   education|education_num|    marital_status|    occupation| relationship| race|   sex|capital_gain|capital_loss|hours_per_week|native_country|income|age_x_age|age_x_fnlwgt|age_x_education_num|age_x_capital_gain|age_x_capital_loss|age_x_hours_per_week|fnlwgt_x_fnlwgt|fnlwgt_x_education_num|fnlwgt_x_capital_gain|fnlwgt_x_capital_loss|fnlwgt_x_hours_per_week|education_num_x_education_num|education_num_x_capital_gain|education_num_x_capital_loss|education_num_x_hours_per_week|capital_gain_x_capital_gain|capital_gain_x_capital_loss|capital_gain_x_hours_per_week|capital_loss_x_capital_loss|capital_loss_x_hours_per_week|hours_per_week_x_hours_per_week|\n",
      "+---+----------------+------+------------+-------------+------------------+--------------+-------------+-----+------+------------+------------+--------------+--------------+------+---------+------------+-------------------+------------------+------------------+--------------------+---------------+----------------------+---------------------+---------------------+-----------------------+-----------------------------+----------------------------+----------------------------+------------------------------+---------------------------+---------------------------+-----------------------------+---------------------------+-----------------------------+-------------------------------+\n",
      "| 72|Self-emp-not-inc| 52138|   Doctorate|           16|Married-civ-spouse|Prof-specialty|      Husband|White|  Male|           0|        2392|            25| United-States|  >50K|     5184|     3753936|               1152|                 0|            172224|                1800|    -1576596252|                834208|                    0|            124714096|                1303450|                          256|                           0|                       38272|                           400|                          0|                          0|                            0|                    5721664|                        59800|                            625|\n",
      "| 45|         Private|140581|Some-college|           10|           Widowed| Other-service|    Unmarried|Black|Female|           0|           0|            40| United-States| <=50K|     2025|     6326145|                450|                 0|                 0|                1800|    -1711818919|               1405810|                    0|                    0|                5623240|                          100|                           0|                           0|                           400|                          0|                          0|                            0|                          0|                            0|                           1600|\n",
      "| 55|       Local-gov| 84564| Prof-school|           15|          Divorced|Prof-specialty|Not-in-family|White|Female|           0|           0|            39| United-States| <=50K|     3025|     4651020|                825|                 0|                 0|                2145|    -1438864496|               1268460|                    0|                    0|                3297996|                          225|                           0|                           0|                           585|                          0|                          0|                            0|                          0|                            0|                           1521|\n",
      "| 37|         Private|356824|     HS-grad|            9|         Separated|  Tech-support|    Unmarried|White|Female|           0|           0|            40| United-States| <=50K|     1369|    13202488|                333|                 0|                 0|                1480|    -1525651904|               3211416|                    0|                    0|               14272960|                           81|                           0|                           0|                           360|                          0|                          0|                            0|                          0|                            0|                           1600|\n",
      "| 56|Self-emp-not-inc|175964|Some-college|           10|          Divorced| Other-service|Not-in-family|White|Female|           0|           0|            40| United-States| <=50K|     3136|     9853984|                560|                 0|                 0|                2240|      898558224|               1759640|                    0|                    0|                7038560|                          100|                           0|                           0|                           400|                          0|                          0|                            0|                          0|                            0|                           1600|\n",
      "+---+----------------+------+------------+-------------+------------------+--------------+-------------+-----+------+------------+------------+--------------+--------------+------+---------+------------+-------------------+------------------+------------------+--------------------+---------------+----------------------+---------------------+---------------------+-----------------------+-----------------------------+----------------------------+----------------------------+------------------------------+---------------------------+---------------------------+-----------------------------+---------------------------+-----------------------------+-------------------------------+\n",
      "only showing top 5 rows\n",
      "\n"
     ]
    },
    {
     "name": "stderr",
     "output_type": "stream",
     "text": [
      "                                                                                \r"
     ]
    }
   ],
   "source": [
    "data = feature_engineering(data)"
   ]
  },
  {
   "cell_type": "code",
   "execution_count": 13,
   "id": "97b84214-97c0-4c9e-9155-118f594cc78c",
   "metadata": {},
   "outputs": [
    {
     "name": "stderr",
     "output_type": "stream",
     "text": [
      "                                                                                \r"
     ]
    },
    {
     "name": "stdout",
     "output_type": "stream",
     "text": [
      "+--------------------+--------------------+\n",
      "|      marital_status|average_capital_gain|\n",
      "+--------------------+--------------------+\n",
      "|           Separated|   535.5687804878049|\n",
      "|       Never-married|  376.58831788823363|\n",
      "|Married-spouse-ab...|   653.9832535885167|\n",
      "|            Divorced|   728.4148098131893|\n",
      "|             Widowed|   571.0715005035247|\n",
      "|   Married-AF-spouse|   432.6521739130435|\n",
      "|  Married-civ-spouse|  1764.8595085470085|\n",
      "+--------------------+--------------------+\n",
      "\n"
     ]
    },
    {
     "name": "stderr",
     "output_type": "stream",
     "text": [
      "[Stage 27:=============================>                            (1 + 1) / 2]\r"
     ]
    },
    {
     "name": "stdout",
     "output_type": "stream",
     "text": [
      "+---+----------------+------+------------+-------------+--------------+----------------+-------------+-----+------+------------+------------+--------------+--------------+------+---------+------------+-------------------+------------------+------------------+--------------------+---------------+----------------------+---------------------+---------------------+-----------------------+-----------------------------+----------------------------+----------------------------+------------------------------+---------------------------+---------------------------+-----------------------------+---------------------------+-----------------------------+-------------------------------+\n",
      "|age|       workclass|fnlwgt|   education|education_num|marital_status|      occupation| relationship| race|   sex|capital_gain|capital_loss|hours_per_week|native_country|income|age_x_age|age_x_fnlwgt|age_x_education_num|age_x_capital_gain|age_x_capital_loss|age_x_hours_per_week|fnlwgt_x_fnlwgt|fnlwgt_x_education_num|fnlwgt_x_capital_gain|fnlwgt_x_capital_loss|fnlwgt_x_hours_per_week|education_num_x_education_num|education_num_x_capital_gain|education_num_x_capital_loss|education_num_x_hours_per_week|capital_gain_x_capital_gain|capital_gain_x_capital_loss|capital_gain_x_hours_per_week|capital_loss_x_capital_loss|capital_loss_x_hours_per_week|hours_per_week_x_hours_per_week|\n",
      "+---+----------------+------+------------+-------------+--------------+----------------+-------------+-----+------+------------+------------+--------------+--------------+------+---------+------------+-------------------+------------------+------------------+--------------------+---------------+----------------------+---------------------+---------------------+-----------------------+-----------------------------+----------------------------+----------------------------+------------------------------+---------------------------+---------------------------+-----------------------------+---------------------------+-----------------------------+-------------------------------+\n",
      "| 36|         Private| 31438|     HS-grad|            9|      Divorced|Transport-moving|    Unmarried|White|  Male|           0|           0|            43|             ?| <=50K|     1296|     1131768|                324|                 0|                 0|                1548|      988347844|                282942|                    0|                    0|                1351834|                           81|                           0|                           0|                           387|                          0|                          0|                            0|                          0|                            0|                           1849|\n",
      "| 45|         Private|220641|Some-college|           10|      Divorced| Exec-managerial|    Unmarried|White|Female|           0|           0|            40| United-States| <=50K|     2025|     9928845|                450|                 0|                 0|                1800|     1437810625|               2206410|                    0|                    0|                8825640|                          100|                           0|                           0|                           400|                          0|                          0|                            0|                          0|                            0|                           1600|\n",
      "| 57|     Federal-gov| 66504| Prof-school|           15|      Divorced|  Prof-specialty|Not-in-family|White|Female|           0|           0|            50| United-States|  >50K|     3249|     3790728|                855|                 0|                 0|                2850|      127814720|                997560|                    0|                    0|                3325200|                          225|                           0|                           0|                           750|                          0|                          0|                            0|                          0|                            0|                           2500|\n",
      "| 49|Self-emp-not-inc|107597|     HS-grad|            9|      Divorced| Exec-managerial|    Unmarried|White|Female|       14084|           0|            30| United-States|  >50K|     2401|     5272253|                441|            690116|                 0|                1470|    -1307787479|                968373|           1515396148|                    0|                3227910|                           81|                      126756|                           0|                           270|                  198359056|                          0|                       422520|                          0|                            0|                            900|\n",
      "| 30|         Private|399088|Some-college|           10|      Divorced|    Adm-clerical|Not-in-family|White|Female|           0|           0|            45| United-States| <=50K|      900|    11972640|                300|                 0|                 0|                1350|      357441792|               3990880|                    0|                    0|               17958960|                          100|                           0|                           0|                           450|                          0|                          0|                            0|                          0|                            0|                           2025|\n",
      "+---+----------------+------+------------+-------------+--------------+----------------+-------------+-----+------+------------+------------+--------------+--------------+------+---------+------------+-------------------+------------------+------------------+--------------------+---------------+----------------------+---------------------+---------------------+-----------------------+-----------------------------+----------------------------+----------------------------+------------------------------+---------------------------+---------------------------+-----------------------------+---------------------------+-----------------------------+-------------------------------+\n",
      "only showing top 5 rows\n",
      "\n"
     ]
    },
    {
     "name": "stderr",
     "output_type": "stream",
     "text": [
      "                                                                                \r"
     ]
    }
   ],
   "source": [
    "bias_marital_status(data)"
   ]
  },
  {
   "cell_type": "code",
   "execution_count": 14,
   "id": "87f12a7d-6627-45c2-9ba6-dfb6a68ad956",
   "metadata": {},
   "outputs": [],
   "source": [
    "data = join_with_US_gender(spark, data)"
   ]
  },
  {
   "cell_type": "code",
   "execution_count": null,
   "id": "46e7a54d-9966-4a1b-9cca-b3026acd8029",
   "metadata": {},
   "outputs": [],
   "source": []
  },
  {
   "cell_type": "code",
   "execution_count": 15,
   "id": "70bf7a36-a0c5-4a55-b89d-50aa712f6ece",
   "metadata": {},
   "outputs": [],
   "source": [
    "def main():\n",
    "    # Create a Spark session\n",
    "    spark = SparkSession.builder \\\n",
    "        .appName(\"Read Adult Dataset\") \\\n",
    "        .getOrCreate() \n",
    "\n",
    "    data = read_data(spark)\n",
    "    # perform basic EDA - count missing values\n",
    "    data = missing_values(data)\n",
    "    data = feature_engineering(data)\n",
    "    bias_marital_status(data)\n",
    "    data = join_with_US_gender(spark, data)\n",
    "    data = age(data)\n",
    "\n",
    "    \n",
    "    \n",
    "    spark.stop()\n"
   ]
  },
  {
   "cell_type": "code",
   "execution_count": null,
   "id": "98527ab4-7fb5-457b-b80e-73d91513b0b3",
   "metadata": {},
   "outputs": [
    {
     "name": "stdout",
     "output_type": "stream",
     "text": [
      "+---+----------------+------+------------+-------------+------------------+--------------+-------------+-----+------+------------+------------+--------------+--------------+------+\n",
      "|age|       workclass|fnlwgt|   education|education_num|    marital_status|    occupation| relationship| race|   sex|capital_gain|capital_loss|hours_per_week|native_country|income|\n",
      "+---+----------------+------+------------+-------------+------------------+--------------+-------------+-----+------+------------+------------+--------------+--------------+------+\n",
      "| 72|Self-emp-not-inc| 52138|   Doctorate|           16|Married-civ-spouse|Prof-specialty|      Husband|White|  Male|           0|        2392|            25| United-States|  >50K|\n",
      "| 45|         Private|140581|Some-college|           10|           Widowed| Other-service|    Unmarried|Black|Female|           0|           0|            40| United-States| <=50K|\n",
      "| 55|       Local-gov| 84564| Prof-school|           15|          Divorced|Prof-specialty|Not-in-family|White|Female|           0|           0|            39| United-States| <=50K|\n",
      "| 37|         Private|356824|     HS-grad|            9|         Separated|  Tech-support|    Unmarried|White|Female|           0|           0|            40| United-States| <=50K|\n",
      "| 56|Self-emp-not-inc|175964|Some-college|           10|          Divorced| Other-service|Not-in-family|White|Female|           0|           0|            40| United-States| <=50K|\n",
      "+---+----------------+------+------------+-------------+------------------+--------------+-------------+-----+------+------------+------------+--------------+--------------+------+\n",
      "only showing top 5 rows\n",
      "\n"
     ]
    },
    {
     "name": "stderr",
     "output_type": "stream",
     "text": [
      "                                                                                \r"
     ]
    },
    {
     "name": "stdout",
     "output_type": "stream",
     "text": [
      "+---+---------+------+---------+-------------+--------------+----------+------------+----+---+------------+------------+--------------+--------------+------+\n",
      "|age|workclass|fnlwgt|education|education_num|marital_status|occupation|relationship|race|sex|capital_gain|capital_loss|hours_per_week|native_country|income|\n",
      "+---+---------+------+---------+-------------+--------------+----------+------------+----+---+------------+------------+--------------+--------------+------+\n",
      "|  1|        0|     1|        0|            1|             0|         0|           0|   0|  0|           1|           1|             1|             0|     0|\n",
      "+---+---------+------+---------+-------------+--------------+----------+------------+----+---+------------+------------+--------------+--------------+------+\n",
      "\n",
      "Number of samples: 65123\n"
     ]
    },
    {
     "name": "stderr",
     "output_type": "stream",
     "text": [
      "                                                                                \r"
     ]
    },
    {
     "name": "stdout",
     "output_type": "stream",
     "text": [
      "+---+----------------+------+------------+-------------+------------------+--------------+-------------+-----+------+------------+------------+--------------+--------------+------+---------+------------+-------------------+------------------+------------------+--------------------+---------------+----------------------+---------------------+---------------------+-----------------------+-----------------------------+----------------------------+----------------------------+------------------------------+---------------------------+---------------------------+-----------------------------+---------------------------+-----------------------------+-------------------------------+\n",
      "|age|       workclass|fnlwgt|   education|education_num|    marital_status|    occupation| relationship| race|   sex|capital_gain|capital_loss|hours_per_week|native_country|income|age_x_age|age_x_fnlwgt|age_x_education_num|age_x_capital_gain|age_x_capital_loss|age_x_hours_per_week|fnlwgt_x_fnlwgt|fnlwgt_x_education_num|fnlwgt_x_capital_gain|fnlwgt_x_capital_loss|fnlwgt_x_hours_per_week|education_num_x_education_num|education_num_x_capital_gain|education_num_x_capital_loss|education_num_x_hours_per_week|capital_gain_x_capital_gain|capital_gain_x_capital_loss|capital_gain_x_hours_per_week|capital_loss_x_capital_loss|capital_loss_x_hours_per_week|hours_per_week_x_hours_per_week|\n",
      "+---+----------------+------+------------+-------------+------------------+--------------+-------------+-----+------+------------+------------+--------------+--------------+------+---------+------------+-------------------+------------------+------------------+--------------------+---------------+----------------------+---------------------+---------------------+-----------------------+-----------------------------+----------------------------+----------------------------+------------------------------+---------------------------+---------------------------+-----------------------------+---------------------------+-----------------------------+-------------------------------+\n",
      "| 72|Self-emp-not-inc| 52138|   Doctorate|           16|Married-civ-spouse|Prof-specialty|      Husband|White|  Male|           0|        2392|            25| United-States|  >50K|     5184|     3753936|               1152|                 0|            172224|                1800|    -1576596252|                834208|                    0|            124714096|                1303450|                          256|                           0|                       38272|                           400|                          0|                          0|                            0|                    5721664|                        59800|                            625|\n",
      "| 45|         Private|140581|Some-college|           10|           Widowed| Other-service|    Unmarried|Black|Female|           0|           0|            40| United-States| <=50K|     2025|     6326145|                450|                 0|                 0|                1800|    -1711818919|               1405810|                    0|                    0|                5623240|                          100|                           0|                           0|                           400|                          0|                          0|                            0|                          0|                            0|                           1600|\n",
      "| 55|       Local-gov| 84564| Prof-school|           15|          Divorced|Prof-specialty|Not-in-family|White|Female|           0|           0|            39| United-States| <=50K|     3025|     4651020|                825|                 0|                 0|                2145|    -1438864496|               1268460|                    0|                    0|                3297996|                          225|                           0|                           0|                           585|                          0|                          0|                            0|                          0|                            0|                           1521|\n",
      "| 37|         Private|356824|     HS-grad|            9|         Separated|  Tech-support|    Unmarried|White|Female|           0|           0|            40| United-States| <=50K|     1369|    13202488|                333|                 0|                 0|                1480|    -1525651904|               3211416|                    0|                    0|               14272960|                           81|                           0|                           0|                           360|                          0|                          0|                            0|                          0|                            0|                           1600|\n",
      "| 56|Self-emp-not-inc|175964|Some-college|           10|          Divorced| Other-service|Not-in-family|White|Female|           0|           0|            40| United-States| <=50K|     3136|     9853984|                560|                 0|                 0|                2240|      898558224|               1759640|                    0|                    0|                7038560|                          100|                           0|                           0|                           400|                          0|                          0|                            0|                          0|                            0|                           1600|\n",
      "+---+----------------+------+------------+-------------+------------------+--------------+-------------+-----+------+------------+------------+--------------+--------------+------+---------+------------+-------------------+------------------+------------------+--------------------+---------------+----------------------+---------------------+---------------------+-----------------------+-----------------------------+----------------------------+----------------------------+------------------------------+---------------------------+---------------------------+-----------------------------+---------------------------+-----------------------------+-------------------------------+\n",
      "only showing top 5 rows\n",
      "\n"
     ]
    },
    {
     "name": "stderr",
     "output_type": "stream",
     "text": [
      "                                                                                \r"
     ]
    },
    {
     "name": "stdout",
     "output_type": "stream",
     "text": [
      "+--------------------+--------------------+\n",
      "|      marital_status|average_capital_gain|\n",
      "+--------------------+--------------------+\n",
      "|           Separated|   535.5687804878049|\n",
      "|       Never-married|  376.58831788823363|\n",
      "|Married-spouse-ab...|   653.9832535885167|\n",
      "|            Divorced|   728.4148098131893|\n",
      "|             Widowed|   571.0715005035247|\n",
      "|   Married-AF-spouse|   432.6521739130435|\n",
      "|  Married-civ-spouse|  1764.8595085470085|\n",
      "+--------------------+--------------------+\n",
      "\n"
     ]
    },
    {
     "name": "stderr",
     "output_type": "stream",
     "text": [
      "                                                                                \r"
     ]
    },
    {
     "name": "stdout",
     "output_type": "stream",
     "text": [
      "+---+----------------+------+------------+-------------+--------------+----------------+-------------+-----+------+------------+------------+--------------+--------------+------+---------+------------+-------------------+------------------+------------------+--------------------+---------------+----------------------+---------------------+---------------------+-----------------------+-----------------------------+----------------------------+----------------------------+------------------------------+---------------------------+---------------------------+-----------------------------+---------------------------+-----------------------------+-------------------------------+\n",
      "|age|       workclass|fnlwgt|   education|education_num|marital_status|      occupation| relationship| race|   sex|capital_gain|capital_loss|hours_per_week|native_country|income|age_x_age|age_x_fnlwgt|age_x_education_num|age_x_capital_gain|age_x_capital_loss|age_x_hours_per_week|fnlwgt_x_fnlwgt|fnlwgt_x_education_num|fnlwgt_x_capital_gain|fnlwgt_x_capital_loss|fnlwgt_x_hours_per_week|education_num_x_education_num|education_num_x_capital_gain|education_num_x_capital_loss|education_num_x_hours_per_week|capital_gain_x_capital_gain|capital_gain_x_capital_loss|capital_gain_x_hours_per_week|capital_loss_x_capital_loss|capital_loss_x_hours_per_week|hours_per_week_x_hours_per_week|\n",
      "+---+----------------+------+------------+-------------+--------------+----------------+-------------+-----+------+------------+------------+--------------+--------------+------+---------+------------+-------------------+------------------+------------------+--------------------+---------------+----------------------+---------------------+---------------------+-----------------------+-----------------------------+----------------------------+----------------------------+------------------------------+---------------------------+---------------------------+-----------------------------+---------------------------+-----------------------------+-------------------------------+\n",
      "| 36|         Private| 31438|     HS-grad|            9|      Divorced|Transport-moving|    Unmarried|White|  Male|           0|           0|            43|             ?| <=50K|     1296|     1131768|                324|                 0|                 0|                1548|      988347844|                282942|                    0|                    0|                1351834|                           81|                           0|                           0|                           387|                          0|                          0|                            0|                          0|                            0|                           1849|\n",
      "| 45|         Private|220641|Some-college|           10|      Divorced| Exec-managerial|    Unmarried|White|Female|           0|           0|            40| United-States| <=50K|     2025|     9928845|                450|                 0|                 0|                1800|     1437810625|               2206410|                    0|                    0|                8825640|                          100|                           0|                           0|                           400|                          0|                          0|                            0|                          0|                            0|                           1600|\n",
      "| 57|     Federal-gov| 66504| Prof-school|           15|      Divorced|  Prof-specialty|Not-in-family|White|Female|           0|           0|            50| United-States|  >50K|     3249|     3790728|                855|                 0|                 0|                2850|      127814720|                997560|                    0|                    0|                3325200|                          225|                           0|                           0|                           750|                          0|                          0|                            0|                          0|                            0|                           2500|\n",
      "| 49|Self-emp-not-inc|107597|     HS-grad|            9|      Divorced| Exec-managerial|    Unmarried|White|Female|       14084|           0|            30| United-States|  >50K|     2401|     5272253|                441|            690116|                 0|                1470|    -1307787479|                968373|           1515396148|                    0|                3227910|                           81|                      126756|                           0|                           270|                  198359056|                          0|                       422520|                          0|                            0|                            900|\n",
      "| 30|         Private|399088|Some-college|           10|      Divorced|    Adm-clerical|Not-in-family|White|Female|           0|           0|            45| United-States| <=50K|      900|    11972640|                300|                 0|                 0|                1350|      357441792|               3990880|                    0|                    0|               17958960|                          100|                           0|                           0|                           450|                          0|                          0|                            0|                          0|                            0|                           2025|\n",
      "+---+----------------+------+------------+-------------+--------------+----------------+-------------+-----+------+------------+------------+--------------+--------------+------+---------+------------+-------------------+------------------+------------------+--------------------+---------------+----------------------+---------------------+---------------------+-----------------------+-----------------------------+----------------------------+----------------------------+------------------------------+---------------------------+---------------------------+-----------------------------+---------------------------+-----------------------------+-------------------------------+\n",
      "only showing top 5 rows\n",
      "\n"
     ]
    }
   ],
   "source": [
    "main()"
   ]
  },
  {
   "cell_type": "code",
   "execution_count": null,
   "id": "938b73fd-ccb5-456a-8adf-22bf4abd2270",
   "metadata": {},
   "outputs": [],
   "source": []
  }
 ],
 "metadata": {
  "kernelspec": {
   "display_name": "Python 3 (ipykernel)",
   "language": "python",
   "name": "python3"
  },
  "language_info": {
   "codemirror_mode": {
    "name": "ipython",
    "version": 3
   },
   "file_extension": ".py",
   "mimetype": "text/x-python",
   "name": "python",
   "nbconvert_exporter": "python",
   "pygments_lexer": "ipython3",
   "version": "3.10.12"
  }
 },
 "nbformat": 4,
 "nbformat_minor": 5
}
