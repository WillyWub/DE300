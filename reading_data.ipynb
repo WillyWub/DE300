{
 "cells": [
  {
   "cell_type": "code",
   "execution_count": 3,
   "id": "009a4d1c-6d22-49be-9ceb-5877109d3306",
   "metadata": {},
   "outputs": [],
   "source": [
    "import boto3\n",
    "from io import BytesIO\n",
    "import pandas as pd"
   ]
  },
  {
   "cell_type": "code",
   "execution_count": 4,
   "id": "32d95ca8-c021-4676-b5b8-703175c6dd0d",
   "metadata": {},
   "outputs": [],
   "source": [
    "# you need to change the credentials for yourself\n",
    "\n",
    "s3 = boto3.client('s3',\n",
    "                  aws_access_key_id='...',\n",
    "                  aws_secret_access_key='...',\n",
    "                  aws_session_token='...')\n",
    "\n",
    "\n",
    "bucket_name = 'de300spring2024'\n",
    "object_key = 'Wilson_Ting/sample_dataset.csv'"
   ]
  },
  {
   "cell_type": "code",
   "execution_count": 5,
   "id": "814b4fee-c585-4000-b828-c33d5762df7b",
   "metadata": {},
   "outputs": [],
   "source": [
    "csv_obj = s3.get_object(Bucket=bucket_name, Key=object_key)\n",
    "body = csv_obj['Body']\n",
    "csv_string = body.read().decode('utf-8')"
   ]
  },
  {
   "cell_type": "code",
   "execution_count": 6,
   "id": "7c2a0519-4ae9-4ef8-b634-93630ac77e46",
   "metadata": {},
   "outputs": [
    {
     "name": "stdout",
     "output_type": "stream",
     "text": [
      "   ID           Name  Age         City\n",
      "0   1       John Doe   28     New York\n",
      "1   2     Jane Smith   32  Los Angeles\n",
      "2   3    Emily Davis   45      Chicago\n",
      "3   4  Michael Brown   22        Miami\n"
     ]
    }
   ],
   "source": [
    "df = pd.read_csv(BytesIO(csv_string.encode()))\n",
    "print(df.head())"
   ]
  },
  {
   "cell_type": "code",
   "execution_count": null,
   "id": "0f8eb5c7-4a28-4c91-a1b4-da3959546373",
   "metadata": {},
   "outputs": [],
   "source": []
  }
 ],
 "metadata": {
  "kernelspec": {
   "display_name": "Python 3 (ipykernel)",
   "language": "python",
   "name": "python3"
  },
  "language_info": {
   "codemirror_mode": {
    "name": "ipython",
    "version": 3
   },
   "file_extension": ".py",
   "mimetype": "text/x-python",
   "name": "python",
   "nbconvert_exporter": "python",
   "pygments_lexer": "ipython3",
   "version": "3.11.6"
  }
 },
 "nbformat": 4,
 "nbformat_minor": 5
}
